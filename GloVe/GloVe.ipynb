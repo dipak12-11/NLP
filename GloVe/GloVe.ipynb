{
 "cells": [
  {
   "cell_type": "code",
   "execution_count": 31,
   "id": "aa976931",
   "metadata": {},
   "outputs": [],
   "source": [
    "import numpy as np\n",
    "import math\n",
    "import re\n",
    "from collections import Counter\n",
    "from collections import defaultdict"
   ]
  },
  {
   "cell_type": "markdown",
   "id": "9a4cda81",
   "metadata": {},
   "source": [
    "# Pre-Processing"
   ]
  },
  {
   "cell_type": "code",
   "execution_count": 22,
   "id": "86e34b3e",
   "metadata": {},
   "outputs": [],
   "source": [
    "def read_corpus(file_path):\n",
    "    with open(file_path,'r',encoding='utf-8') as f:\n",
    "        text=f.read()\n",
    "    return text\n",
    "def tokenize(text):\n",
    "    text=text.lower()\n",
    "    text=re.sub(r'[^a-z\\s]', '', text)\n",
    "    tokens=text.split()\n",
    "    return tokens"
   ]
  },
  {
   "cell_type": "code",
   "execution_count": 23,
   "id": "bb31798a",
   "metadata": {},
   "outputs": [],
   "source": [
    "file_path='wikipedia.txt'\n",
    "raw_text=read_corpus(file_path)\n",
    "tokens=tokenize(raw_text)"
   ]
  },
  {
   "cell_type": "code",
   "execution_count": 41,
   "id": "b2eb0a3d",
   "metadata": {},
   "outputs": [],
   "source": [
    "word_counts=Counter(tokens)\n",
    "vocab={word:i for i, word in enumerate(word_counts)} #{'apple': 0, 'banana': 1, 'orange': 2}\n",
    "inv_vocab = {i: word for word, i in vocab.items()}\n",
    "vocab_size=sum([1 for i in dict(word_counts).keys() ])# i like it the cpmlex way...just for experiment"
   ]
  },
  {
   "cell_type": "code",
   "execution_count": null,
   "id": "746250e6",
   "metadata": {},
   "outputs": [],
   "source": [
    "WINDOW_SIZE = 5\n",
    "cooccurrence = defaultdict(lambda: defaultdict(float))  # cooccurrence[i][j]\n",
    "\n",
    "for i, word in enumerate(tokens):\n",
    "    word_i = vocab[word]\n",
    "    start = max(i - WINDOW_SIZE, 0)\n",
    "    end = min(i + WINDOW_SIZE + 1, len(tokens))  \n",
    "\n",
    "    for j in range(start, end):\n",
    "        if i != j:\n",
    "            word_j = vocab[tokens[j]]\n",
    "            distance = abs(i - j)\n",
    "            cooccurrence[word_i][word_j] += 1.0\n"
   ]
  },
  {
   "cell_type": "code",
   "execution_count": 43,
   "id": "f808d8e5",
   "metadata": {},
   "outputs": [],
   "source": [
    "embedding_dim = 50 \n",
    "W = np.random.randn(vocab_size, embedding_dim) / np.sqrt(embedding_dim)  # word vector\n",
    "W_tilde = np.random.randn(vocab_size, embedding_dim) / np.sqrt(embedding_dim)  # context vector\n",
    "b = np.zeros(vocab_size)           # word bias\n",
    "b_tilde = np.zeros(vocab_size)\n",
    "\n",
    "#adagrad Acumulator\n",
    "gradsq_W = np.ones_like(W)\n",
    "gradsq_W_tilde = np.ones_like(W_tilde)\n",
    "gradsq_b = np.ones_like(b)\n",
    "gradsq_b_tilde = np.ones_like(b_tilde)"
   ]
  },
  {
   "cell_type": "code",
   "execution_count": 44,
   "id": "1e6dffd9",
   "metadata": {},
   "outputs": [],
   "source": [
    "def f(x, x_max=100, alpha=0.75):\n",
    "    return (x / x_max) ** alpha if x < x_max else 1"
   ]
  },
  {
   "cell_type": "code",
   "execution_count": 45,
   "id": "9bdaa4cb",
   "metadata": {},
   "outputs": [
    {
     "name": "stdout",
     "output_type": "stream",
     "text": [
      "Epoch 1, Loss: 0.0683\n",
      "Epoch 2, Loss: 0.0674\n",
      "Epoch 3, Loss: 0.0665\n",
      "Epoch 4, Loss: 0.0655\n",
      "Epoch 5, Loss: 0.0646\n",
      "Epoch 6, Loss: 0.0638\n",
      "Epoch 7, Loss: 0.0629\n",
      "Epoch 8, Loss: 0.0620\n",
      "Epoch 9, Loss: 0.0612\n",
      "Epoch 10, Loss: 0.0603\n",
      "Epoch 11, Loss: 0.0595\n",
      "Epoch 12, Loss: 0.0587\n",
      "Epoch 13, Loss: 0.0579\n",
      "Epoch 14, Loss: 0.0571\n",
      "Epoch 15, Loss: 0.0564\n",
      "Epoch 16, Loss: 0.0556\n",
      "Epoch 17, Loss: 0.0549\n",
      "Epoch 18, Loss: 0.0541\n",
      "Epoch 19, Loss: 0.0534\n",
      "Epoch 20, Loss: 0.0527\n",
      "Epoch 21, Loss: 0.0520\n",
      "Epoch 22, Loss: 0.0513\n",
      "Epoch 23, Loss: 0.0506\n",
      "Epoch 24, Loss: 0.0500\n",
      "Epoch 25, Loss: 0.0493\n",
      "Epoch 26, Loss: 0.0486\n",
      "Epoch 27, Loss: 0.0480\n",
      "Epoch 28, Loss: 0.0474\n",
      "Epoch 29, Loss: 0.0467\n",
      "Epoch 30, Loss: 0.0461\n",
      "Epoch 31, Loss: 0.0455\n",
      "Epoch 32, Loss: 0.0449\n",
      "Epoch 33, Loss: 0.0443\n",
      "Epoch 34, Loss: 0.0438\n",
      "Epoch 35, Loss: 0.0432\n",
      "Epoch 36, Loss: 0.0426\n",
      "Epoch 37, Loss: 0.0421\n",
      "Epoch 38, Loss: 0.0415\n",
      "Epoch 39, Loss: 0.0410\n",
      "Epoch 40, Loss: 0.0405\n",
      "Epoch 41, Loss: 0.0399\n",
      "Epoch 42, Loss: 0.0394\n",
      "Epoch 43, Loss: 0.0389\n",
      "Epoch 44, Loss: 0.0384\n",
      "Epoch 45, Loss: 0.0379\n",
      "Epoch 46, Loss: 0.0375\n",
      "Epoch 47, Loss: 0.0370\n",
      "Epoch 48, Loss: 0.0365\n",
      "Epoch 49, Loss: 0.0360\n",
      "Epoch 50, Loss: 0.0356\n"
     ]
    }
   ],
   "source": [
    "#Training\n",
    "epochs=50\n",
    "learning_rate=0.05\n",
    "for epoch in range(epochs):\n",
    "    total_loss=0\n",
    "    for i in cooccurrence:\n",
    "        for j in cooccurrence[i]:\n",
    "            x_ij=cooccurrence[i][j]\n",
    "            weight=f(x_ij)\n",
    "            \n",
    "            \n",
    "        #loss function\n",
    "        dot=np.dot(W[i],W_tilde[j])\n",
    "        loss=(dot+b[i]+b_tilde[j]-np.log(x_ij))\n",
    "        \n",
    "        total_loss+=0.5*weight*(loss**2)\n",
    "        \n",
    "        \n",
    "        grad_common = weight * loss\n",
    "\n",
    "        grad_Wi = grad_common * W_tilde[j]\n",
    "        grad_Wj = grad_common * W[i]\n",
    "        grad_bi = grad_common\n",
    "        grad_bj = grad_common\n",
    "        \n",
    "        W[i] -= (learning_rate * grad_Wi) / np.sqrt(gradsq_W[i])\n",
    "        W_tilde[j] -= (learning_rate * grad_Wj) / np.sqrt(gradsq_W_tilde[j])\n",
    "        b[i] -= (learning_rate * grad_bi) / np.sqrt(gradsq_b[i])\n",
    "        b_tilde[j] -= (learning_rate * grad_bj) / np.sqrt(gradsq_b_tilde[j])\n",
    "        \n",
    "        gradsq_W[i] += grad_Wi ** 2\n",
    "        gradsq_W_tilde[j] += grad_Wj ** 2\n",
    "        gradsq_b[i] += grad_bi ** 2\n",
    "        gradsq_b_tilde[j] += grad_bj ** 2\n",
    "        \n",
    "    print(f\"Epoch {epoch+1}, Loss: {total_loss:.4f}\")\n",
    "        "
   ]
  },
  {
   "cell_type": "code",
   "execution_count": 50,
   "id": "aecd933a",
   "metadata": {},
   "outputs": [],
   "source": [
    "word_embeddings = (W + W_tilde)/2  # final embeddings as per paper"
   ]
  },
  {
   "cell_type": "code",
   "execution_count": null,
   "id": "646f7897",
   "metadata": {},
   "outputs": [
    {
     "name": "stdout",
     "output_type": "stream",
     "text": [
      "['emerges', 'an', 'larvae', 'much', 'species']\n"
     ]
    }
   ],
   "source": [
    "def most_similar(word, top_n=5):\n",
    "    if word not in vocab:\n",
    "        return []\n",
    "\n",
    "    idx = vocab[word]\n",
    "    vec = word_embeddings[idx]\n",
    "    norms = np.linalg.norm(word_embeddings, axis=1)\n",
    "    vec_norm = np.linalg.norm(vec)\n",
    "\n",
    "    sims = word_embeddings @ vec / (norms * vec_norm + 1e-10)\n",
    "    top_idxs = np.argsort(-sims)[:top_n+1]  \n",
    "\n",
    "    return [inv_vocab[i] for i in top_idxs if i != idx][:top_n]\n",
    "\n",
    "# Example:\n",
    "print(most_similar(\"reptiles\"))\n"
   ]
  },
  {
   "cell_type": "code",
   "execution_count": null,
   "id": "e9c041c9",
   "metadata": {},
   "outputs": [],
   "source": []
  },
  {
   "cell_type": "code",
   "execution_count": null,
   "id": "38268a97",
   "metadata": {},
   "outputs": [],
   "source": []
  }
 ],
 "metadata": {
  "kernelspec": {
   "display_name": "Python 3",
   "language": "python",
   "name": "python3"
  },
  "language_info": {
   "codemirror_mode": {
    "name": "ipython",
    "version": 3
   },
   "file_extension": ".py",
   "mimetype": "text/x-python",
   "name": "python",
   "nbconvert_exporter": "python",
   "pygments_lexer": "ipython3",
   "version": "3.10.4"
  }
 },
 "nbformat": 4,
 "nbformat_minor": 5
}
