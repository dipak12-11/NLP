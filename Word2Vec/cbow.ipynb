{
 "cells": [
  {
   "cell_type": "code",
   "execution_count": 1,
   "id": "0e21a35a",
   "metadata": {},
   "outputs": [],
   "source": [
    "import nltk\n",
    "from nltk.corpus import stopwords\n",
    "from nltk.stem import WordNetLemmatizer\n",
    "import numpy as np\n",
    "import random"
   ]
  },
  {
   "cell_type": "code",
   "execution_count": 2,
   "id": "026e65ea",
   "metadata": {},
   "outputs": [],
   "source": [
    "# Read corpus from file\n",
    "with open('wikipedia.txt', 'r', encoding='utf-8') as f:\n",
    "    raw_text = f.read()\n",
    "\n",
    "# Convert to list of sentences (if needed)\n",
    "from nltk.tokenize import sent_tokenize\n",
    "import nltk\n",
    "# nltk.download('punkt')  # ensure you have this\n",
    "\n",
    "corpus = sent_tokenize(raw_text)\n"
   ]
  },
  {
   "cell_type": "code",
   "execution_count": 4,
   "id": "0e1a11ce",
   "metadata": {},
   "outputs": [],
   "source": [
    "stop_words = set(stopwords.words('english'))\n",
    "lemmatizer = WordNetLemmatizer()"
   ]
  },
  {
   "cell_type": "code",
   "execution_count": 5,
   "id": "8675560a",
   "metadata": {},
   "outputs": [],
   "source": [
    "def preprocess(Corpus):\n",
    "    token=[]\n",
    "    for sentence in corpus:\n",
    "        l=[]\n",
    "        sentence=sentence.lower()\n",
    "        for w in sentence.split():\n",
    "            w=lemmatizer.lemmatize(w)\n",
    "            if w.isalpha():# and w not in stop_words:\n",
    "                l.append(w)\n",
    "        token.append(l)\n",
    "    return token\n",
    "                "
   ]
  },
  {
   "cell_type": "code",
   "execution_count": 9,
   "id": "eea99660",
   "metadata": {},
   "outputs": [
    {
     "name": "stdout",
     "output_type": "stream",
     "text": [
      "{'extreme', 'three', 'digest', 'painful', 'established', 'gentle', 'small', 'release', 'speed', 'clean', 'million', 'case', 'causing', 'every', 'submerges', 'female', 'document', 'lower', 'or', 'africa', 'migrates', 'source', 'type', 'by', 'for', 'thus', 'campaign', 'south', 'break', 'previously', 'blister', 'week', 'eradication', 'stomach', 'in', 'allows', 'filtering', 'site', 'reside', 'if', 'centimeter', 'few', 'mammal', 'which', 'spread', 'had', 'due', 'severe', 'worm', 'inside', 'a', 'reptile', 'discourage', 'is', 'escape', 'though', 'becomes', 'parasitic', 'stick', 'began', 'dracunculiasis', 'worldwide', 'eradicate', 'when', 'occurring', 'that', 'the', 'center', 'will', 'falling', 'wrapping', 'across', 'leg', 'on', 'physician', 'widespread', 'have', 'specie', 'usually', 'relieve', 'several', 'surviving', 'program', 'exit', 'tension', 'intensely', 'with', 'medinensis', 'become', 'take', 'eradicated', 'wound', 'access', 'other', 'remove', 'from', 'there', 'second', 'endemic', 'consistent', 'kill', 'drinking', 'no', 'acid', 'since', 'too', 'many', 'of', 'place', 'national', 'cause', 'can', 'life', 'early', 'tract', 'dracunculus', 'careful', 'ensuing', 'larva', 'throughout', 'affected', 'treatment', 'mainstay', 'pain', 'attempt', 'person', 'continuing', 'to', 'adult', 'poor', 'an', 'gauze', 'reported', 'induces', 'up', 'turned', 'gradually', 'more', 'leaving', 'around', 'well', 'medication', 'contaminated', 'appear', 'affecting', 'emerging', 'water', 'penetrates', 'creating', 'year', 'maintain', 'limb', 'soaking', 'disabling', 'per', 'called', 'disease', 'digestive', 'it', 'successful', 'emerges', 'infection', 'this', 'guinea', 'ten', 'remains', 'effort', 'account', 'prevent', 'encourage', 'prevention', 'following', 'infected', 'each', 'over', 'their', 'infect', 'people', 'country', 'much', 'after', 'public', 'copepod', 'human', 'are', 'dropped', 'education', 'host', 'into', 'wa', 'also', 'and', 'treat'}\n"
     ]
    }
   ],
   "source": [
    "tokens=(preprocess(corpus))\n",
    "vocab = set( j for i in tokens for j in i)\n",
    "word2idx = {word: idx for idx, word in enumerate(vocab)}\n",
    "idx2word = {idx: word for word, idx in word2idx.items()}\n",
    "vocab_size = len(vocab)\n",
    "print(vocab)"
   ]
  },
  {
   "cell_type": "code",
   "execution_count": 30,
   "id": "3a47be8e",
   "metadata": {},
   "outputs": [],
   "source": [
    "def generate_train(tokens,windowsize=2):\n",
    "    data=[]\n",
    "    for i in tokens:\n",
    "        for idx,target in enumerate(i):\n",
    "            context=[]\n",
    "            for j in range(max(0,idx-windowsize),min(idx+windowsize+1,len(i))):\n",
    "                if j!=idx:\n",
    "                    context.append(i[j])\n",
    "            data.append([context,target])\n",
    "        \n",
    "    return data         "
   ]
  },
  {
   "cell_type": "code",
   "execution_count": 32,
   "id": "414548cb",
   "metadata": {},
   "outputs": [
    {
     "name": "stdout",
     "output_type": "stream",
     "text": [
      "[[['called', 'is'], 'also'], [['also', 'is', 'a'], 'called'], [['also', 'called', 'a', 'parasitic'], 'is'], [['called', 'is', 'parasitic', 'infection'], 'a'], [['is', 'a', 'infection', 'by'], 'parasitic'], [['a', 'parasitic', 'by', 'the'], 'infection'], [['parasitic', 'infection', 'the', 'guinea'], 'by'], [['infection', 'by', 'guinea', 'dracunculus'], 'the'], [['by', 'the', 'dracunculus'], 'guinea'], [['the', 'guinea'], 'dracunculus'], [['person', 'becomes'], 'a'], [['a', 'becomes', 'infected'], 'person'], [['a', 'person', 'infected', 'by'], 'becomes'], [['person', 'becomes', 'by', 'drinking'], 'infected'], [['becomes', 'infected', 'drinking', 'water'], 'by'], [['infected', 'by', 'water', 'contaminated'], 'drinking'], [['by', 'drinking', 'contaminated', 'with'], 'water'], [['drinking', 'water', 'with', 'larva'], 'contaminated'], [['water', 'contaminated', 'larva', 'that'], 'with'], [['contaminated', 'with', 'that', 'reside'], 'larva'], [['with', 'larva', 'reside', 'inside'], 'that'], [['larva', 'that', 'inside', 'copepod'], 'reside'], [['that', 'reside', 'copepod', 'type'], 'inside'], [['reside', 'inside', 'type', 'of'], 'copepod'], [['inside', 'copepod', 'of', 'small'], 'type'], [['copepod', 'type', 'small'], 'of'], [['type', 'of'], 'small'], [['acid', 'digest'], 'stomach'], [['stomach', 'digest', 'the'], 'acid'], [['stomach', 'acid', 'the', 'copepod'], 'digest'], [['acid', 'digest', 'copepod', 'and'], 'the'], [['digest', 'the', 'and', 'release'], 'copepod'], [['the', 'copepod', 'release', 'the'], 'and'], [['copepod', 'and', 'the', 'guinea'], 'release'], [['and', 'release', 'guinea', 'which'], 'the'], [['release', 'the', 'which', 'penetrates'], 'guinea'], [['the', 'guinea', 'penetrates', 'the'], 'which'], [['guinea', 'which', 'the', 'digestive'], 'penetrates'], [['which', 'penetrates', 'digestive', 'tract'], 'the'], [['penetrates', 'the', 'tract', 'and'], 'digestive'], [['the', 'digestive', 'and', 'escape'], 'tract'], [['digestive', 'tract', 'escape', 'into'], 'and'], [['tract', 'and', 'into', 'the'], 'escape'], [['and', 'escape', 'the'], 'into'], [['escape', 'into'], 'the'], [['a', 'year'], 'around'], [['around', 'year', 'the'], 'a'], [['around', 'a', 'the', 'adult'], 'year'], [['a', 'year', 'adult', 'female'], 'the'], [['year', 'the', 'female', 'migrates'], 'adult'], [['the', 'adult', 'migrates', 'to'], 'female'], [['adult', 'female', 'to', 'an'], 'migrates'], [['female', 'migrates', 'an', 'exit'], 'to'], [['migrates', 'to', 'exit', 'site'], 'an'], [['to', 'an', 'site', 'usually'], 'exit'], [['an', 'exit', 'usually', 'the'], 'site'], [['exit', 'site', 'the', 'lower'], 'usually'], [['site', 'usually', 'lower', 'leg'], 'the'], [['usually', 'the', 'leg', 'and'], 'lower'], [['the', 'lower', 'and', 'induces'], 'leg'], [['lower', 'leg', 'induces', 'an'], 'and'], [['leg', 'and', 'an', 'intensely'], 'induces'], [['and', 'induces', 'intensely', 'painful'], 'an'], [['induces', 'an', 'painful', 'blister'], 'intensely'], [['an', 'intensely', 'blister', 'on'], 'painful'], [['intensely', 'painful', 'on', 'the'], 'blister'], [['painful', 'blister', 'the'], 'on'], [['blister', 'on'], 'the'], [['blister', 'creating'], 'the'], [['the', 'creating', 'a'], 'blister'], [['the', 'blister', 'a', 'painful'], 'creating'], [['blister', 'creating', 'painful', 'wound'], 'a'], [['creating', 'a', 'wound', 'from'], 'painful'], [['a', 'painful', 'from', 'which'], 'wound'], [['painful', 'wound', 'which', 'the'], 'from'], [['wound', 'from', 'the', 'worm'], 'which'], [['from', 'which', 'worm', 'gradually'], 'the'], [['which', 'the', 'gradually', 'emerges'], 'worm'], [['the', 'worm', 'emerges', 'over'], 'gradually'], [['worm', 'gradually', 'over', 'several'], 'emerges'], [['gradually', 'emerges', 'several'], 'over'], [['emerges', 'over'], 'several'], [['wound', 'remains'], 'the'], [['the', 'remains', 'painful'], 'wound'], [['the', 'wound', 'painful', 'throughout'], 'remains'], [['wound', 'remains', 'throughout', 'the'], 'painful'], [['remains', 'painful', 'the', 'disabling'], 'throughout'], [['painful', 'throughout', 'disabling', 'the'], 'the'], [['throughout', 'the', 'the', 'affected'], 'disabling'], [['the', 'disabling', 'affected', 'person'], 'the'], [['disabling', 'the', 'person', 'for'], 'affected'], [['the', 'affected', 'for', 'the'], 'person'], [['affected', 'person', 'the', 'three'], 'for'], [['person', 'for', 'three', 'to'], 'the'], [['for', 'the', 'to', 'ten'], 'three'], [['the', 'three', 'ten', 'week'], 'to'], [['three', 'to', 'week', 'it'], 'ten'], [['to', 'ten', 'it', 'take'], 'week'], [['ten', 'week', 'take', 'the'], 'it'], [['week', 'it', 'the', 'worm'], 'take'], [['it', 'take', 'worm', 'to'], 'the'], [['take', 'the', 'to'], 'worm'], [['the', 'worm'], 'to'], [['female', 'worm'], 'the'], [['the', 'worm', 'release'], 'female'], [['the', 'female', 'release', 'larva'], 'worm'], [['female', 'worm', 'larva', 'when'], 'release'], [['worm', 'release', 'when', 'the'], 'larva'], [['release', 'larva', 'the', 'host'], 'when'], [['larva', 'when', 'host', 'submerges'], 'the'], [['when', 'the', 'submerges', 'the'], 'host'], [['the', 'host', 'the', 'wound'], 'submerges'], [['host', 'submerges', 'wound', 'in'], 'the'], [['submerges', 'the', 'in', 'water'], 'wound'], [['the', 'wound', 'water', 'in'], 'in'], [['wound', 'in', 'in', 'attempt'], 'water'], [['in', 'water', 'attempt', 'to'], 'in'], [['water', 'in', 'to', 'relieve'], 'attempt'], [['in', 'attempt', 'relieve', 'the'], 'to'], [['attempt', 'to', 'the', 'thus'], 'relieve'], [['to', 'relieve', 'thus', 'continuing'], 'the'], [['relieve', 'the', 'continuing', 'the'], 'thus'], [['the', 'thus', 'the', 'life'], 'continuing'], [['thus', 'continuing', 'life'], 'the'], [['continuing', 'the'], 'life'], [['is', 'no'], 'there'], [['there', 'no', 'medication'], 'is'], [['there', 'is', 'medication', 'to'], 'no'], [['is', 'no', 'to', 'treat'], 'medication'], [['no', 'medication', 'treat', 'or'], 'to'], [['medication', 'to', 'or', 'prevent'], 'treat'], [['to', 'treat', 'prevent'], 'or'], [['treat', 'or'], 'prevent'], [['mainstay', 'of'], 'the'], [['the', 'of', 'treatment'], 'mainstay'], [['the', 'mainstay', 'treatment', 'is'], 'of'], [['mainstay', 'of', 'is', 'the'], 'treatment'], [['of', 'treatment', 'the', 'careful'], 'is'], [['treatment', 'is', 'careful', 'wrapping'], 'the'], [['is', 'the', 'wrapping', 'of'], 'careful'], [['the', 'careful', 'of', 'the'], 'wrapping'], [['careful', 'wrapping', 'the', 'emerging'], 'of'], [['wrapping', 'of', 'emerging', 'worm'], 'the'], [['of', 'the', 'worm', 'around'], 'emerging'], [['the', 'emerging', 'around', 'a'], 'worm'], [['emerging', 'worm', 'a', 'small'], 'around'], [['worm', 'around', 'small', 'stick'], 'a'], [['around', 'a', 'stick', 'or'], 'small'], [['a', 'small', 'or', 'gauze'], 'stick'], [['small', 'stick', 'gauze', 'to'], 'or'], [['stick', 'or', 'to', 'encourage'], 'gauze'], [['or', 'gauze', 'encourage', 'and'], 'to'], [['gauze', 'to', 'and', 'speed'], 'encourage'], [['to', 'encourage', 'speed', 'up'], 'and'], [['encourage', 'and', 'up', 'it'], 'speed'], [['and', 'speed', 'it'], 'up'], [['speed', 'up'], 'it'], [['a', 'few'], 'each'], [['each', 'few', 'more'], 'a'], [['each', 'a', 'more', 'centimeter'], 'few'], [['a', 'few', 'centimeter', 'of'], 'more'], [['few', 'more', 'of', 'the'], 'centimeter'], [['more', 'centimeter', 'the', 'worm'], 'of'], [['centimeter', 'of', 'worm', 'and'], 'the'], [['of', 'the', 'and', 'the'], 'worm'], [['the', 'worm', 'the', 'stick'], 'and'], [['worm', 'and', 'stick', 'is'], 'the'], [['and', 'the', 'is', 'turned'], 'stick'], [['the', 'stick', 'turned', 'to'], 'is'], [['stick', 'is', 'to', 'maintain'], 'turned'], [['is', 'turned', 'maintain', 'gentle'], 'to'], [['turned', 'to', 'gentle'], 'maintain'], [['to', 'maintain'], 'gentle'], [['much', 'tension'], 'too'], [['too', 'tension', 'can'], 'much'], [['too', 'much', 'can', 'break'], 'tension'], [['much', 'tension', 'break', 'and'], 'can'], [['tension', 'can', 'and', 'kill'], 'break'], [['can', 'break', 'kill', 'the'], 'and'], [['break', 'and', 'the', 'worm'], 'kill'], [['and', 'kill', 'worm', 'in'], 'the'], [['kill', 'the', 'in', 'the'], 'worm'], [['the', 'worm', 'the', 'causing'], 'in'], [['worm', 'in', 'causing', 'severe'], 'the'], [['in', 'the', 'severe', 'pain'], 'causing'], [['the', 'causing', 'pain', 'and'], 'severe'], [['causing', 'severe', 'and'], 'pain'], [['severe', 'pain'], 'and'], [['is', 'a'], 'dracunculiasis'], [['dracunculiasis', 'a', 'disease'], 'is'], [['dracunculiasis', 'is', 'disease', 'of'], 'a'], [['is', 'a', 'of', 'extreme'], 'disease'], [['a', 'disease', 'extreme', 'occurring'], 'of'], [['disease', 'of', 'occurring', 'in'], 'extreme'], [['of', 'extreme', 'in', 'place'], 'occurring'], [['extreme', 'occurring', 'place', 'with'], 'in'], [['occurring', 'in', 'with', 'poor'], 'place'], [['in', 'place', 'poor', 'access'], 'with'], [['place', 'with', 'access', 'to'], 'poor'], [['with', 'poor', 'to', 'clean'], 'access'], [['poor', 'access', 'clean', 'drinking'], 'to'], [['access', 'to', 'drinking'], 'clean'], [['to', 'clean'], 'drinking'], [['effort', 'center'], 'prevention'], [['prevention', 'center', 'on'], 'effort'], [['prevention', 'effort', 'on', 'filtering'], 'center'], [['effort', 'center', 'filtering', 'drinking'], 'on'], [['center', 'on', 'drinking', 'water'], 'filtering'], [['on', 'filtering', 'water', 'to'], 'drinking'], [['filtering', 'drinking', 'to', 'remove'], 'water'], [['drinking', 'water', 'remove', 'a'], 'to'], [['water', 'to', 'a', 'well'], 'remove'], [['to', 'remove', 'well', 'a'], 'a'], [['remove', 'a', 'a', 'public'], 'well'], [['a', 'well', 'public', 'education'], 'a'], [['well', 'a', 'education', 'campaign'], 'public'], [['a', 'public', 'campaign', 'to'], 'education'], [['public', 'education', 'to', 'discourage'], 'campaign'], [['education', 'campaign', 'discourage', 'people'], 'to'], [['campaign', 'to', 'people', 'from'], 'discourage'], [['to', 'discourage', 'from', 'soaking'], 'people'], [['discourage', 'people', 'soaking', 'affected'], 'from'], [['people', 'from', 'affected', 'limb'], 'soaking'], [['from', 'soaking', 'limb', 'in'], 'affected'], [['soaking', 'affected', 'in', 'source'], 'limb'], [['affected', 'limb', 'source', 'of'], 'in'], [['limb', 'in', 'of', 'drinking'], 'source'], [['in', 'source', 'drinking', 'a'], 'of'], [['source', 'of', 'a', 'this'], 'drinking'], [['of', 'drinking', 'this', 'allows'], 'a'], [['drinking', 'a', 'allows', 'the'], 'this'], [['a', 'this', 'the', 'worm'], 'allows'], [['this', 'allows', 'worm', 'to'], 'the'], [['allows', 'the', 'to', 'spread'], 'worm'], [['the', 'worm', 'spread', 'their'], 'to'], [['worm', 'to', 'their'], 'spread'], [['to', 'spread'], 'their'], [['consistent', 'with'], 'account'], [['account', 'with', 'dracunculiasis'], 'consistent'], [['account', 'consistent', 'dracunculiasis', 'appear'], 'with'], [['consistent', 'with', 'appear', 'in'], 'dracunculiasis'], [['with', 'dracunculiasis', 'in', 'surviving'], 'appear'], [['dracunculiasis', 'appear', 'surviving', 'document'], 'in'], [['appear', 'in', 'document', 'from'], 'surviving'], [['in', 'surviving', 'from', 'physician'], 'document'], [['surviving', 'document', 'physician', 'of'], 'from'], [['document', 'from', 'of'], 'physician'], [['from', 'physician'], 'of'], [['the', 'and'], 'in'], [['in', 'and', 'early'], 'the'], [['in', 'the', 'early', 'dracunculiasis'], 'and'], [['the', 'and', 'dracunculiasis', 'wa'], 'early'], [['and', 'early', 'wa', 'widespread'], 'dracunculiasis'], [['early', 'dracunculiasis', 'widespread', 'across'], 'wa'], [['dracunculiasis', 'wa', 'across', 'much'], 'widespread'], [['wa', 'widespread', 'much', 'of'], 'across'], [['widespread', 'across', 'of', 'africa'], 'much'], [['across', 'much', 'africa', 'and'], 'of'], [['much', 'of', 'and', 'south'], 'africa'], [['of', 'africa', 'south', 'affecting'], 'and'], [['africa', 'and', 'affecting', 'a'], 'south'], [['and', 'south', 'a', 'many'], 'affecting'], [['south', 'affecting', 'many', 'a'], 'a'], [['affecting', 'a', 'a', 'million'], 'many'], [['a', 'many', 'million', 'people'], 'a'], [['many', 'a', 'people', 'per'], 'million'], [['a', 'million', 'per'], 'people'], [['million', 'people'], 'per'], [['effort', 'to'], 'the'], [['the', 'to', 'eradicate'], 'effort'], [['the', 'effort', 'eradicate', 'dracunculiasis'], 'to'], [['effort', 'to', 'dracunculiasis', 'began'], 'eradicate'], [['to', 'eradicate', 'began', 'in'], 'dracunculiasis'], [['eradicate', 'dracunculiasis', 'in', 'the'], 'began'], [['dracunculiasis', 'began', 'the', 'following'], 'in'], [['began', 'in', 'following', 'the'], 'the'], [['in', 'the', 'the', 'successful'], 'following'], [['the', 'following', 'successful', 'eradication'], 'the'], [['following', 'the', 'eradication', 'of'], 'successful'], [['the', 'successful', 'of'], 'eradication'], [['successful', 'eradication'], 'of'], [['every', 'country'], 'by'], [['by', 'country', 'with'], 'every'], [['by', 'every', 'with', 'endemic'], 'country'], [['every', 'country', 'endemic', 'dracunculiasis'], 'with'], [['country', 'with', 'dracunculiasis', 'had'], 'endemic'], [['with', 'endemic', 'had', 'established'], 'dracunculiasis'], [['endemic', 'dracunculiasis', 'established', 'a'], 'had'], [['dracunculiasis', 'had', 'a', 'national'], 'established'], [['had', 'established', 'national', 'eradication'], 'a'], [['established', 'a', 'eradication'], 'national'], [['a', 'national'], 'eradication'], [['the', 'ensuing'], 'in'], [['in', 'ensuing', 'dracunculiasis'], 'the'], [['in', 'the', 'dracunculiasis', 'case'], 'ensuing'], [['the', 'ensuing', 'case', 'have'], 'dracunculiasis'], [['ensuing', 'dracunculiasis', 'have', 'dropped'], 'case'], [['dracunculiasis', 'case', 'dropped', 'with'], 'have'], [['case', 'have', 'with', 'case'], 'dropped'], [['have', 'dropped', 'case', 'reported'], 'with'], [['dropped', 'with', 'reported', 'worldwide'], 'case'], [['with', 'case', 'worldwide', 'in'], 'reported'], [['case', 'reported', 'in'], 'worldwide'], [['reported', 'worldwide'], 'in'], [['previously', 'endemic'], 'since'], [['since', 'endemic', 'country'], 'previously'], [['since', 'previously', 'country', 'have'], 'endemic'], [['previously', 'endemic', 'have', 'eradicated'], 'country'], [['endemic', 'country', 'eradicated', 'leaving'], 'have'], [['country', 'have', 'leaving', 'the'], 'eradicated'], [['have', 'eradicated', 'the', 'disease'], 'leaving'], [['eradicated', 'leaving', 'disease', 'endemic'], 'the'], [['leaving', 'the', 'endemic', 'in'], 'disease'], [['the', 'disease', 'in', 'and'], 'endemic'], [['disease', 'endemic', 'and', 'south'], 'in'], [['endemic', 'in', 'south'], 'and'], [['in', 'and'], 'south'], [['the', 'eradication'], 'if'], [['if', 'eradication', 'program'], 'the'], [['if', 'the', 'program', 'dracunculiasis'], 'eradication'], [['the', 'eradication', 'dracunculiasis', 'will'], 'program'], [['eradication', 'program', 'will', 'become'], 'dracunculiasis'], [['program', 'dracunculiasis', 'become', 'the'], 'will'], [['dracunculiasis', 'will', 'the', 'second'], 'become'], [['will', 'become', 'second', 'human'], 'the'], [['become', 'the', 'human', 'disease'], 'second'], [['the', 'second', 'disease', 'after'], 'human'], [['second', 'human', 'after'], 'disease'], [['human', 'disease'], 'after'], [['can', 'also'], 'medinensis'], [['medinensis', 'also', 'infect'], 'can'], [['medinensis', 'can', 'infect', 'and'], 'also'], [['can', 'also', 'and', 'though'], 'infect'], [['also', 'infect', 'though', 'case'], 'and'], [['infect', 'and', 'case', 'are'], 'though'], [['and', 'though', 'are', 'also'], 'case'], [['though', 'case', 'also', 'falling'], 'are'], [['case', 'are', 'falling', 'due'], 'also'], [['are', 'also', 'due', 'to'], 'falling'], [['also', 'falling', 'to', 'eradication'], 'due'], [['falling', 'due', 'eradication'], 'to'], [['due', 'to'], 'eradication'], [['dracunculus', 'specie'], 'other'], [['other', 'specie', 'cause'], 'dracunculus'], [['other', 'dracunculus', 'cause', 'dracunculiasis'], 'specie'], [['dracunculus', 'specie', 'dracunculiasis', 'in'], 'cause'], [['specie', 'cause', 'in', 'reptile'], 'dracunculiasis'], [['cause', 'dracunculiasis', 'reptile', 'worldwide'], 'in'], [['dracunculiasis', 'in', 'worldwide', 'and'], 'reptile'], [['in', 'reptile', 'and', 'in'], 'worldwide'], [['reptile', 'worldwide', 'in', 'mammal'], 'and'], [['worldwide', 'and', 'mammal', 'in'], 'in'], [['and', 'in', 'in', 'the'], 'mammal'], [['in', 'mammal', 'the'], 'in'], [['mammal', 'in'], 'the']]\n"
     ]
    }
   ],
   "source": [
    "data=generate_train(tokens)\n",
    "print(data)"
   ]
  },
  {
   "cell_type": "code",
   "execution_count": 20,
   "id": "79f5ce76",
   "metadata": {},
   "outputs": [],
   "source": [
    "def one_hot_vector(word):\n",
    "    vec = np.zeros(vocab_size)\n",
    "    vec[word2idx[word]] = 1\n",
    "    return vec\n"
   ]
  },
  {
   "cell_type": "code",
   "execution_count": 21,
   "id": "9b7edb6a",
   "metadata": {},
   "outputs": [],
   "source": [
    "embedding_dim = 10  \n",
    "W1 = np.random.randn(vocab_size, embedding_dim)\n",
    "W2 = np.random.randn(embedding_dim, vocab_size) "
   ]
  },
  {
   "cell_type": "code",
   "execution_count": null,
   "id": "579a9c37",
   "metadata": {},
   "outputs": [],
   "source": [
    "[['dracunculiasis', 'will', 'the', 'second'], 'become']"
   ]
  },
  {
   "cell_type": "code",
   "execution_count": null,
   "id": "1af783fe",
   "metadata": {},
   "outputs": [],
   "source": [
    "def forward_pass(context_words):\n",
    "    embedding=[one_hot_vector(word2idx[i])for i in context_words]\n",
    "    x = np.mean([one_hot_vector(w) for w in embedding], axis=0)  # Avg context\n",
    "    h = np.dot(x, W1)  \n",
    "    u = np.dot(h, W2)  \n",
    "    y_pred = softmax(u)\n",
    "    return x, h, u, y_pred\n"
   ]
  },
  {
   "cell_type": "code",
   "execution_count": 33,
   "id": "a6ca60e4",
   "metadata": {},
   "outputs": [
    {
     "ename": "SyntaxError",
     "evalue": "name 'W2' is used prior to global declaration (3290762684.py, line 7)",
     "output_type": "error",
     "traceback": [
      "  \u001b[36mCell\u001b[39m\u001b[36m \u001b[39m\u001b[32mIn[33]\u001b[39m\u001b[32m, line 7\u001b[39m\n\u001b[31m    \u001b[39m\u001b[31mglobal W1, W2\u001b[39m\n    ^\n\u001b[31mSyntaxError\u001b[39m\u001b[31m:\u001b[39m name 'W2' is used prior to global declaration\n"
     ]
    }
   ],
   "source": [
    "def backprop(x, h, y_pred, target_word, learning_rate=0.01):\n",
    "    y_true = one_hot_vector(target_word)\n",
    "    error = y_pred - y_true\n",
    "    dW2 = np.outer(h, error)\n",
    "    dW1 = np.outer(x, np.dot(W2, error))\n",
    "    \n",
    "    global W1, W2\n",
    "    W1 -= learning_rate * dW1\n",
    "    W2 -= learning_rate * dW2\n"
   ]
  },
  {
   "cell_type": "code",
   "execution_count": null,
   "id": "a71f6af9",
   "metadata": {},
   "outputs": [
    {
     "ename": "SyntaxError",
     "evalue": "invalid syntax (3256032223.py, line 3)",
     "output_type": "error",
     "traceback": [
      "  \u001b[36mCell\u001b[39m\u001b[36m \u001b[39m\u001b[32mIn[35]\u001b[39m\u001b[32m, line 3\u001b[39m\n\u001b[31m    \u001b[39m\u001b[31mfor context, target in:\u001b[39m\n                          ^\n\u001b[31mSyntaxError\u001b[39m\u001b[31m:\u001b[39m invalid syntax\n"
     ]
    }
   ],
   "source": [
    "for epoch in range(1000):\n",
    "    loss = 0\n",
    "    for context, target in data:\n",
    "        x, h, u, y_pred = forward_pass(context)\n",
    "        backprop(x, h, y_pred, target)\n",
    "        loss += -np.log(y_pred[word2idx[target]] + 1e-7)\n",
    "    if epoch % 100 == 0:\n",
    "        print(f\"Epoch {epoch}, Loss: {loss:.4f}\")\n"
   ]
  },
  {
   "cell_type": "code",
   "execution_count": null,
   "id": "17a73aad",
   "metadata": {},
   "outputs": [],
   "source": []
  }
 ],
 "metadata": {
  "kernelspec": {
   "display_name": "all-env",
   "language": "python",
   "name": "python3"
  },
  "language_info": {
   "codemirror_mode": {
    "name": "ipython",
    "version": 3
   },
   "file_extension": ".py",
   "mimetype": "text/x-python",
   "name": "python",
   "nbconvert_exporter": "python",
   "pygments_lexer": "ipython3",
   "version": "3.13.0"
  }
 },
 "nbformat": 4,
 "nbformat_minor": 5
}
